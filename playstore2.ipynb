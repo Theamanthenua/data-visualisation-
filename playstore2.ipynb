{
 "cells": [
  {
   "cell_type": "code",
   "execution_count": 1,
   "id": "6d328f24",
   "metadata": {},
   "outputs": [],
   "source": [
    "import numpy as np \n",
    "import pandas as pd\n",
    "import seaborn as sns\n",
    "import pandas as pd\n",
    "df = pd.read_csv('googleplaystore.csv')\n"
   ]
  },
  {
   "cell_type": "code",
   "execution_count": 2,
   "id": "0735f34b",
   "metadata": {},
   "outputs": [
    {
     "data": {
      "text/html": [
       "<div>\n",
       "<style scoped>\n",
       "    .dataframe tbody tr th:only-of-type {\n",
       "        vertical-align: middle;\n",
       "    }\n",
       "\n",
       "    .dataframe tbody tr th {\n",
       "        vertical-align: top;\n",
       "    }\n",
       "\n",
       "    .dataframe thead th {\n",
       "        text-align: right;\n",
       "    }\n",
       "</style>\n",
       "<table border=\"1\" class=\"dataframe\">\n",
       "  <thead>\n",
       "    <tr style=\"text-align: right;\">\n",
       "      <th></th>\n",
       "      <th>App</th>\n",
       "      <th>Category</th>\n",
       "      <th>Rating</th>\n",
       "      <th>Reviews</th>\n",
       "      <th>Size</th>\n",
       "      <th>Installs</th>\n",
       "      <th>Type</th>\n",
       "      <th>Price</th>\n",
       "      <th>Content Rating</th>\n",
       "      <th>Genres</th>\n",
       "      <th>Last Updated</th>\n",
       "      <th>Current Ver</th>\n",
       "      <th>Android Ver</th>\n",
       "    </tr>\n",
       "  </thead>\n",
       "  <tbody>\n",
       "    <tr>\n",
       "      <th>0</th>\n",
       "      <td>Photo Editor &amp; Candy Camera &amp; Grid &amp; ScrapBook</td>\n",
       "      <td>ART_AND_DESIGN</td>\n",
       "      <td>4.1</td>\n",
       "      <td>159</td>\n",
       "      <td>19M</td>\n",
       "      <td>10,000+</td>\n",
       "      <td>Free</td>\n",
       "      <td>0</td>\n",
       "      <td>Everyone</td>\n",
       "      <td>Art &amp; Design</td>\n",
       "      <td>January 7, 2018</td>\n",
       "      <td>1.0.0</td>\n",
       "      <td>4.0.3 and up</td>\n",
       "    </tr>\n",
       "    <tr>\n",
       "      <th>1</th>\n",
       "      <td>Coloring book moana</td>\n",
       "      <td>ART_AND_DESIGN</td>\n",
       "      <td>3.9</td>\n",
       "      <td>967</td>\n",
       "      <td>14M</td>\n",
       "      <td>500,000+</td>\n",
       "      <td>Free</td>\n",
       "      <td>0</td>\n",
       "      <td>Everyone</td>\n",
       "      <td>Art &amp; Design;Pretend Play</td>\n",
       "      <td>January 15, 2018</td>\n",
       "      <td>2.0.0</td>\n",
       "      <td>4.0.3 and up</td>\n",
       "    </tr>\n",
       "    <tr>\n",
       "      <th>2</th>\n",
       "      <td>U Launcher Lite – FREE Live Cool Themes, Hide ...</td>\n",
       "      <td>ART_AND_DESIGN</td>\n",
       "      <td>4.7</td>\n",
       "      <td>87510</td>\n",
       "      <td>8.7M</td>\n",
       "      <td>5,000,000+</td>\n",
       "      <td>Free</td>\n",
       "      <td>0</td>\n",
       "      <td>Everyone</td>\n",
       "      <td>Art &amp; Design</td>\n",
       "      <td>August 1, 2018</td>\n",
       "      <td>1.2.4</td>\n",
       "      <td>4.0.3 and up</td>\n",
       "    </tr>\n",
       "    <tr>\n",
       "      <th>3</th>\n",
       "      <td>Sketch - Draw &amp; Paint</td>\n",
       "      <td>ART_AND_DESIGN</td>\n",
       "      <td>4.5</td>\n",
       "      <td>215644</td>\n",
       "      <td>25M</td>\n",
       "      <td>50,000,000+</td>\n",
       "      <td>Free</td>\n",
       "      <td>0</td>\n",
       "      <td>Teen</td>\n",
       "      <td>Art &amp; Design</td>\n",
       "      <td>June 8, 2018</td>\n",
       "      <td>Varies with device</td>\n",
       "      <td>4.2 and up</td>\n",
       "    </tr>\n",
       "    <tr>\n",
       "      <th>4</th>\n",
       "      <td>Pixel Draw - Number Art Coloring Book</td>\n",
       "      <td>ART_AND_DESIGN</td>\n",
       "      <td>4.3</td>\n",
       "      <td>967</td>\n",
       "      <td>2.8M</td>\n",
       "      <td>100,000+</td>\n",
       "      <td>Free</td>\n",
       "      <td>0</td>\n",
       "      <td>Everyone</td>\n",
       "      <td>Art &amp; Design;Creativity</td>\n",
       "      <td>June 20, 2018</td>\n",
       "      <td>1.1</td>\n",
       "      <td>4.4 and up</td>\n",
       "    </tr>\n",
       "    <tr>\n",
       "      <th>...</th>\n",
       "      <td>...</td>\n",
       "      <td>...</td>\n",
       "      <td>...</td>\n",
       "      <td>...</td>\n",
       "      <td>...</td>\n",
       "      <td>...</td>\n",
       "      <td>...</td>\n",
       "      <td>...</td>\n",
       "      <td>...</td>\n",
       "      <td>...</td>\n",
       "      <td>...</td>\n",
       "      <td>...</td>\n",
       "      <td>...</td>\n",
       "    </tr>\n",
       "    <tr>\n",
       "      <th>10836</th>\n",
       "      <td>Sya9a Maroc - FR</td>\n",
       "      <td>FAMILY</td>\n",
       "      <td>4.5</td>\n",
       "      <td>38</td>\n",
       "      <td>53M</td>\n",
       "      <td>5,000+</td>\n",
       "      <td>Free</td>\n",
       "      <td>0</td>\n",
       "      <td>Everyone</td>\n",
       "      <td>Education</td>\n",
       "      <td>July 25, 2017</td>\n",
       "      <td>1.48</td>\n",
       "      <td>4.1 and up</td>\n",
       "    </tr>\n",
       "    <tr>\n",
       "      <th>10837</th>\n",
       "      <td>Fr. Mike Schmitz Audio Teachings</td>\n",
       "      <td>FAMILY</td>\n",
       "      <td>5.0</td>\n",
       "      <td>4</td>\n",
       "      <td>3.6M</td>\n",
       "      <td>100+</td>\n",
       "      <td>Free</td>\n",
       "      <td>0</td>\n",
       "      <td>Everyone</td>\n",
       "      <td>Education</td>\n",
       "      <td>July 6, 2018</td>\n",
       "      <td>1.0</td>\n",
       "      <td>4.1 and up</td>\n",
       "    </tr>\n",
       "    <tr>\n",
       "      <th>10838</th>\n",
       "      <td>Parkinson Exercices FR</td>\n",
       "      <td>MEDICAL</td>\n",
       "      <td>NaN</td>\n",
       "      <td>3</td>\n",
       "      <td>9.5M</td>\n",
       "      <td>1,000+</td>\n",
       "      <td>Free</td>\n",
       "      <td>0</td>\n",
       "      <td>Everyone</td>\n",
       "      <td>Medical</td>\n",
       "      <td>January 20, 2017</td>\n",
       "      <td>1.0</td>\n",
       "      <td>2.2 and up</td>\n",
       "    </tr>\n",
       "    <tr>\n",
       "      <th>10839</th>\n",
       "      <td>The SCP Foundation DB fr nn5n</td>\n",
       "      <td>BOOKS_AND_REFERENCE</td>\n",
       "      <td>4.5</td>\n",
       "      <td>114</td>\n",
       "      <td>Varies with device</td>\n",
       "      <td>1,000+</td>\n",
       "      <td>Free</td>\n",
       "      <td>0</td>\n",
       "      <td>Mature 17+</td>\n",
       "      <td>Books &amp; Reference</td>\n",
       "      <td>January 19, 2015</td>\n",
       "      <td>Varies with device</td>\n",
       "      <td>Varies with device</td>\n",
       "    </tr>\n",
       "    <tr>\n",
       "      <th>10840</th>\n",
       "      <td>iHoroscope - 2018 Daily Horoscope &amp; Astrology</td>\n",
       "      <td>LIFESTYLE</td>\n",
       "      <td>4.5</td>\n",
       "      <td>398307</td>\n",
       "      <td>19M</td>\n",
       "      <td>10,000,000+</td>\n",
       "      <td>Free</td>\n",
       "      <td>0</td>\n",
       "      <td>Everyone</td>\n",
       "      <td>Lifestyle</td>\n",
       "      <td>July 25, 2018</td>\n",
       "      <td>Varies with device</td>\n",
       "      <td>Varies with device</td>\n",
       "    </tr>\n",
       "  </tbody>\n",
       "</table>\n",
       "<p>10841 rows × 13 columns</p>\n",
       "</div>"
      ],
      "text/plain": [
       "                                                     App             Category  \\\n",
       "0         Photo Editor & Candy Camera & Grid & ScrapBook       ART_AND_DESIGN   \n",
       "1                                    Coloring book moana       ART_AND_DESIGN   \n",
       "2      U Launcher Lite – FREE Live Cool Themes, Hide ...       ART_AND_DESIGN   \n",
       "3                                  Sketch - Draw & Paint       ART_AND_DESIGN   \n",
       "4                  Pixel Draw - Number Art Coloring Book       ART_AND_DESIGN   \n",
       "...                                                  ...                  ...   \n",
       "10836                                   Sya9a Maroc - FR               FAMILY   \n",
       "10837                   Fr. Mike Schmitz Audio Teachings               FAMILY   \n",
       "10838                             Parkinson Exercices FR              MEDICAL   \n",
       "10839                      The SCP Foundation DB fr nn5n  BOOKS_AND_REFERENCE   \n",
       "10840      iHoroscope - 2018 Daily Horoscope & Astrology            LIFESTYLE   \n",
       "\n",
       "       Rating Reviews                Size     Installs  Type Price  \\\n",
       "0         4.1     159                 19M      10,000+  Free     0   \n",
       "1         3.9     967                 14M     500,000+  Free     0   \n",
       "2         4.7   87510                8.7M   5,000,000+  Free     0   \n",
       "3         4.5  215644                 25M  50,000,000+  Free     0   \n",
       "4         4.3     967                2.8M     100,000+  Free     0   \n",
       "...       ...     ...                 ...          ...   ...   ...   \n",
       "10836     4.5      38                 53M       5,000+  Free     0   \n",
       "10837     5.0       4                3.6M         100+  Free     0   \n",
       "10838     NaN       3                9.5M       1,000+  Free     0   \n",
       "10839     4.5     114  Varies with device       1,000+  Free     0   \n",
       "10840     4.5  398307                 19M  10,000,000+  Free     0   \n",
       "\n",
       "      Content Rating                     Genres      Last Updated  \\\n",
       "0           Everyone               Art & Design   January 7, 2018   \n",
       "1           Everyone  Art & Design;Pretend Play  January 15, 2018   \n",
       "2           Everyone               Art & Design    August 1, 2018   \n",
       "3               Teen               Art & Design      June 8, 2018   \n",
       "4           Everyone    Art & Design;Creativity     June 20, 2018   \n",
       "...              ...                        ...               ...   \n",
       "10836       Everyone                  Education     July 25, 2017   \n",
       "10837       Everyone                  Education      July 6, 2018   \n",
       "10838       Everyone                    Medical  January 20, 2017   \n",
       "10839     Mature 17+          Books & Reference  January 19, 2015   \n",
       "10840       Everyone                  Lifestyle     July 25, 2018   \n",
       "\n",
       "              Current Ver         Android Ver  \n",
       "0                   1.0.0        4.0.3 and up  \n",
       "1                   2.0.0        4.0.3 and up  \n",
       "2                   1.2.4        4.0.3 and up  \n",
       "3      Varies with device          4.2 and up  \n",
       "4                     1.1          4.4 and up  \n",
       "...                   ...                 ...  \n",
       "10836                1.48          4.1 and up  \n",
       "10837                 1.0          4.1 and up  \n",
       "10838                 1.0          2.2 and up  \n",
       "10839  Varies with device  Varies with device  \n",
       "10840  Varies with device  Varies with device  \n",
       "\n",
       "[10841 rows x 13 columns]"
      ]
     },
     "execution_count": 2,
     "metadata": {},
     "output_type": "execute_result"
    }
   ],
   "source": [
    "df"
   ]
  },
  {
   "cell_type": "code",
   "execution_count": 3,
   "id": "b60fbfd2",
   "metadata": {},
   "outputs": [
    {
     "data": {
      "text/plain": [
       "App                object\n",
       "Category           object\n",
       "Rating            float64\n",
       "Reviews            object\n",
       "Size               object\n",
       "Installs           object\n",
       "Type               object\n",
       "Price              object\n",
       "Content Rating     object\n",
       "Genres             object\n",
       "Last Updated       object\n",
       "Current Ver        object\n",
       "Android Ver        object\n",
       "dtype: object"
      ]
     },
     "execution_count": 3,
     "metadata": {},
     "output_type": "execute_result"
    }
   ],
   "source": [
    "df.dtypes"
   ]
  },
  {
   "cell_type": "code",
   "execution_count": 4,
   "id": "8a9c3809",
   "metadata": {},
   "outputs": [
    {
     "data": {
      "text/plain": [
       "App                  0\n",
       "Category             0\n",
       "Rating            1474\n",
       "Reviews              0\n",
       "Size                 0\n",
       "Installs             0\n",
       "Type                 1\n",
       "Price                0\n",
       "Content Rating       1\n",
       "Genres               0\n",
       "Last Updated         0\n",
       "Current Ver          8\n",
       "Android Ver          3\n",
       "dtype: int64"
      ]
     },
     "execution_count": 4,
     "metadata": {},
     "output_type": "execute_result"
    }
   ],
   "source": [
    "df.isnull().sum()"
   ]
  },
  {
   "cell_type": "markdown",
   "id": "a12f15d8",
   "metadata": {},
   "source": [
    "##### in this dataset some column contain 'Varies with device' value we goona change it with nan value "
   ]
  },
  {
   "cell_type": "code",
   "execution_count": 5,
   "id": "217e77d5",
   "metadata": {},
   "outputs": [],
   "source": [
    "check = df.columns[df.eq('Varies with device').any()]"
   ]
  },
  {
   "cell_type": "code",
   "execution_count": 6,
   "id": "e9a84b37",
   "metadata": {},
   "outputs": [
    {
     "data": {
      "text/plain": [
       "Index(['Size', 'Current Ver', 'Android Ver'], dtype='object')"
      ]
     },
     "execution_count": 6,
     "metadata": {},
     "output_type": "execute_result"
    }
   ],
   "source": [
    "check"
   ]
  },
  {
   "cell_type": "markdown",
   "id": "cd7f40d2",
   "metadata": {},
   "source": [
    "#### now it show that the three column contain the 'Varies with device' value now we goona change it with null value"
   ]
  },
  {
   "cell_type": "code",
   "execution_count": 7,
   "id": "b1280617",
   "metadata": {},
   "outputs": [],
   "source": [
    "#df['Size'] = df['Size'].replace('Varies with device', pd.NA)  # Replace 'Varies with device' with NaN\n",
    " \n",
    "#df['Android Ver'] = df['Android Ver'].replace('Varies with device', pd.NA)\n",
    "#df['Current Ver'] = df['Current Ver'].replace('Varies with device', pd.NA)"
   ]
  },
  {
   "cell_type": "code",
   "execution_count": 8,
   "id": "beed9c80",
   "metadata": {},
   "outputs": [],
   "source": [
    "import numpy as np\n",
    "\n",
    "df['Size'] = df['Size'].replace('Varies with device', np.nan)\n",
    "df['Android Ver'] = df['Android Ver'].replace('Varies with device', np.nan)\n",
    "df['Current Ver'] = df['Current Ver'].replace('Varies with device', np.nan)\n",
    "\n",
    "#when we use pd.NA then we have to use this formula 'df['Size'] = df['Size'].fillna(float('nan'))'without this formula you can not chnage its dtype but if you use the above formula than you dont need to use this formula "
   ]
  },
  {
   "cell_type": "code",
   "execution_count": 9,
   "id": "812d9b98",
   "metadata": {},
   "outputs": [
    {
     "data": {
      "text/plain": [
       "App                  0\n",
       "Category             0\n",
       "Rating            1474\n",
       "Reviews              0\n",
       "Size              1695\n",
       "Installs             0\n",
       "Type                 1\n",
       "Price                0\n",
       "Content Rating       1\n",
       "Genres               0\n",
       "Last Updated         0\n",
       "Current Ver       1467\n",
       "Android Ver       1365\n",
       "dtype: int64"
      ]
     },
     "execution_count": 9,
     "metadata": {},
     "output_type": "execute_result"
    }
   ],
   "source": [
    "df.isnull().sum()"
   ]
  },
  {
   "cell_type": "markdown",
   "id": "4edfe12c",
   "metadata": {},
   "source": [
    "#### now we goona fill the null value with the mean of their column "
   ]
  },
  {
   "cell_type": "code",
   "execution_count": 10,
   "id": "3a9bb9ea",
   "metadata": {},
   "outputs": [],
   "source": [
    "mean_rating = df['Rating'].mean()\n",
    "df['Rating'] = df['Rating'].fillna(mean_rating)\n",
    "#df['Rating'] = df['Rating'].interpolate()\n"
   ]
  },
  {
   "cell_type": "code",
   "execution_count": 11,
   "id": "54870c48",
   "metadata": {},
   "outputs": [
    {
     "data": {
      "text/plain": [
       "array(['19M', '14M', '8.7M', '25M', '2.8M', '5.6M', '29M', '33M', '3.1M',\n",
       "       '28M', '12M', '20M', '21M', '37M', '2.7M', '5.5M', '17M', '39M',\n",
       "       '31M', '4.2M', '7.0M', '23M', '6.0M', '6.1M', '4.6M', '9.2M',\n",
       "       '5.2M', '11M', '24M', nan, '9.4M', '15M', '10M', '1.2M', '26M',\n",
       "       '8.0M', '7.9M', '56M', '57M', '35M', '54M', '201k', '3.6M', '5.7M',\n",
       "       '8.6M', '2.4M', '27M', '2.5M', '16M', '3.4M', '8.9M', '3.9M',\n",
       "       '2.9M', '38M', '32M', '5.4M', '18M', '1.1M', '2.2M', '4.5M',\n",
       "       '9.8M', '52M', '9.0M', '6.7M', '30M', '2.6M', '7.1M', '3.7M',\n",
       "       '22M', '7.4M', '6.4M', '3.2M', '8.2M', '9.9M', '4.9M', '9.5M',\n",
       "       '5.0M', '5.9M', '13M', '73M', '6.8M', '3.5M', '4.0M', '2.3M',\n",
       "       '7.2M', '2.1M', '42M', '7.3M', '9.1M', '55M', '23k', '6.5M',\n",
       "       '1.5M', '7.5M', '51M', '41M', '48M', '8.5M', '46M', '8.3M', '4.3M',\n",
       "       '4.7M', '3.3M', '40M', '7.8M', '8.8M', '6.6M', '5.1M', '61M',\n",
       "       '66M', '79k', '8.4M', '118k', '44M', '695k', '1.6M', '6.2M', '18k',\n",
       "       '53M', '1.4M', '3.0M', '5.8M', '3.8M', '9.6M', '45M', '63M', '49M',\n",
       "       '77M', '4.4M', '4.8M', '70M', '6.9M', '9.3M', '10.0M', '8.1M',\n",
       "       '36M', '84M', '97M', '2.0M', '1.9M', '1.8M', '5.3M', '47M', '556k',\n",
       "       '526k', '76M', '7.6M', '59M', '9.7M', '78M', '72M', '43M', '7.7M',\n",
       "       '6.3M', '334k', '34M', '93M', '65M', '79M', '100M', '58M', '50M',\n",
       "       '68M', '64M', '67M', '60M', '94M', '232k', '99M', '624k', '95M',\n",
       "       '8.5k', '41k', '292k', '11k', '80M', '1.7M', '74M', '62M', '69M',\n",
       "       '75M', '98M', '85M', '82M', '96M', '87M', '71M', '86M', '91M',\n",
       "       '81M', '92M', '83M', '88M', '704k', '862k', '899k', '378k', '266k',\n",
       "       '375k', '1.3M', '975k', '980k', '4.1M', '89M', '696k', '544k',\n",
       "       '525k', '920k', '779k', '853k', '720k', '713k', '772k', '318k',\n",
       "       '58k', '241k', '196k', '857k', '51k', '953k', '865k', '251k',\n",
       "       '930k', '540k', '313k', '746k', '203k', '26k', '314k', '239k',\n",
       "       '371k', '220k', '730k', '756k', '91k', '293k', '17k', '74k', '14k',\n",
       "       '317k', '78k', '924k', '902k', '818k', '81k', '939k', '169k',\n",
       "       '45k', '475k', '965k', '90M', '545k', '61k', '283k', '655k',\n",
       "       '714k', '93k', '872k', '121k', '322k', '1.0M', '976k', '172k',\n",
       "       '238k', '549k', '206k', '954k', '444k', '717k', '210k', '609k',\n",
       "       '308k', '705k', '306k', '904k', '473k', '175k', '350k', '383k',\n",
       "       '454k', '421k', '70k', '812k', '442k', '842k', '417k', '412k',\n",
       "       '459k', '478k', '335k', '782k', '721k', '430k', '429k', '192k',\n",
       "       '200k', '460k', '728k', '496k', '816k', '414k', '506k', '887k',\n",
       "       '613k', '243k', '569k', '778k', '683k', '592k', '319k', '186k',\n",
       "       '840k', '647k', '191k', '373k', '437k', '598k', '716k', '585k',\n",
       "       '982k', '222k', '219k', '55k', '948k', '323k', '691k', '511k',\n",
       "       '951k', '963k', '25k', '554k', '351k', '27k', '82k', '208k',\n",
       "       '913k', '514k', '551k', '29k', '103k', '898k', '743k', '116k',\n",
       "       '153k', '209k', '353k', '499k', '173k', '597k', '809k', '122k',\n",
       "       '411k', '400k', '801k', '787k', '237k', '50k', '643k', '986k',\n",
       "       '97k', '516k', '837k', '780k', '961k', '269k', '20k', '498k',\n",
       "       '600k', '749k', '642k', '881k', '72k', '656k', '601k', '221k',\n",
       "       '228k', '108k', '940k', '176k', '33k', '663k', '34k', '942k',\n",
       "       '259k', '164k', '458k', '245k', '629k', '28k', '288k', '775k',\n",
       "       '785k', '636k', '916k', '994k', '309k', '485k', '914k', '903k',\n",
       "       '608k', '500k', '54k', '562k', '847k', '957k', '688k', '811k',\n",
       "       '270k', '48k', '329k', '523k', '921k', '874k', '981k', '784k',\n",
       "       '280k', '24k', '518k', '754k', '892k', '154k', '860k', '364k',\n",
       "       '387k', '626k', '161k', '879k', '39k', '970k', '170k', '141k',\n",
       "       '160k', '144k', '143k', '190k', '376k', '193k', '246k', '73k',\n",
       "       '658k', '992k', '253k', '420k', '404k', '1,000+', '470k', '226k',\n",
       "       '240k', '89k', '234k', '257k', '861k', '467k', '157k', '44k',\n",
       "       '676k', '67k', '552k', '885k', '1020k', '582k', '619k'],\n",
       "      dtype=object)"
      ]
     },
     "execution_count": 11,
     "metadata": {},
     "output_type": "execute_result"
    }
   ],
   "source": [
    "df['Size'].unique()"
   ]
  },
  {
   "cell_type": "code",
   "execution_count": 12,
   "id": "00100548",
   "metadata": {},
   "outputs": [
    {
     "name": "stderr",
     "output_type": "stream",
     "text": [
      "C:\\Users\\drago\\AppData\\Local\\Temp\\ipykernel_10172\\797326396.py:1: FutureWarning: The default value of regex will change from True to False in a future version. In addition, single character regular expressions will *not* be treated as literal strings when regex=True.\n",
      "  df['Size'] = df['Size'].str.replace('k','').str.replace('+','').str.replace('M','').str.replace(',','')\n"
     ]
    }
   ],
   "source": [
    "df['Size'] = df['Size'].str.replace('k','').str.replace('+','').str.replace('M','').str.replace(',','')\n"
   ]
  },
  {
   "cell_type": "code",
   "execution_count": 13,
   "id": "3d15991b",
   "metadata": {},
   "outputs": [],
   "source": [
    "#df['Size'] = df['Size'].fillna(float('nan'))\n"
   ]
  },
  {
   "cell_type": "code",
   "execution_count": 14,
   "id": "36bcb7ed",
   "metadata": {},
   "outputs": [],
   "source": [
    "df['Size'] = df['Size'].astype(float)"
   ]
  },
  {
   "cell_type": "code",
   "execution_count": 15,
   "id": "4487176e",
   "metadata": {},
   "outputs": [],
   "source": [
    "df['Size'].fillna(df['Size'].mean(),inplace= True)"
   ]
  },
  {
   "cell_type": "code",
   "execution_count": 16,
   "id": "53f5e83a",
   "metadata": {},
   "outputs": [
    {
     "data": {
      "text/plain": [
       "array(['10,000+', '500,000+', '5,000,000+', '50,000,000+', '100,000+',\n",
       "       '50,000+', '1,000,000+', '10,000,000+', '5,000+', '100,000,000+',\n",
       "       '1,000,000,000+', '1,000+', '500,000,000+', '50+', '100+', '500+',\n",
       "       '10+', '1+', '5+', '0+', '0', 'Free'], dtype=object)"
      ]
     },
     "execution_count": 16,
     "metadata": {},
     "output_type": "execute_result"
    }
   ],
   "source": [
    "df['Installs'].unique()"
   ]
  },
  {
   "cell_type": "code",
   "execution_count": 17,
   "id": "5f0a5176",
   "metadata": {},
   "outputs": [
    {
     "name": "stderr",
     "output_type": "stream",
     "text": [
      "C:\\Users\\drago\\AppData\\Local\\Temp\\ipykernel_10172\\1457422408.py:1: FutureWarning: The default value of regex will change from True to False in a future version. In addition, single character regular expressions will *not* be treated as literal strings when regex=True.\n",
      "  df['Installs'] = df['Installs'].str.replace('+','').str.replace(',','').str.replace('Free','0')\n"
     ]
    }
   ],
   "source": [
    "df['Installs'] = df['Installs'].str.replace('+','').str.replace(',','').str.replace('Free','0')"
   ]
  },
  {
   "cell_type": "code",
   "execution_count": 18,
   "id": "8af0227d",
   "metadata": {},
   "outputs": [],
   "source": [
    "df['Installs'] = df['Installs'].astype(float)"
   ]
  },
  {
   "cell_type": "code",
   "execution_count": 19,
   "id": "fed13fb9",
   "metadata": {},
   "outputs": [
    {
     "data": {
      "text/plain": [
       "array(['Free', 'Paid', nan, '0'], dtype=object)"
      ]
     },
     "execution_count": 19,
     "metadata": {},
     "output_type": "execute_result"
    }
   ],
   "source": [
    "df['Type'].unique()"
   ]
  },
  {
   "cell_type": "code",
   "execution_count": 20,
   "id": "571678b9",
   "metadata": {},
   "outputs": [],
   "source": [
    "df['Type'] = df['Type'].str.replace('nan','Free').str.replace('0','Free')\n"
   ]
  },
  {
   "cell_type": "code",
   "execution_count": 21,
   "id": "44fd40b5",
   "metadata": {},
   "outputs": [],
   "source": [
    "df = pd.get_dummies(df, columns=['Type'])"
   ]
  },
  {
   "cell_type": "code",
   "execution_count": 22,
   "id": "c71122e5",
   "metadata": {},
   "outputs": [
    {
     "data": {
      "text/plain": [
       "array(['Everyone', 'Teen', 'Everyone 10+', 'Mature 17+',\n",
       "       'Adults only 18+', 'Unrated', nan], dtype=object)"
      ]
     },
     "execution_count": 22,
     "metadata": {},
     "output_type": "execute_result"
    }
   ],
   "source": [
    "df['Content Rating'].unique()"
   ]
  },
  {
   "cell_type": "raw",
   "id": "afdf6466",
   "metadata": {},
   "source": [
    "now we have to select whhat should we apply to this column we can apply one hot encoding or we can apply label encoding In the one-hot encoding approach, the 'Content Rating' column will be replaced with a set of new columns, each representing a unique category and containing binary values. The prefix parameter is used to add a prefix to the new column names for better identification.\n",
    "\n",
    "In the label encoding approach, a new column 'Encoded Rating' will be added to the DataFrame, containing the numerical representations of the categories from the 'Content Rating' column. Each category is assigned a unique numerical value.\n",
    "To convert the categorical column into numerical values for a machine learning model, you can use either one-hot encoding or label encoding, depending on the specific characteristics of the data.\n",
    "\n",
    "One-Hot Encoding:\n",
    "One-hot encoding is used when the categories in the column have no ordinal relationship and are not inherently ranked or ordered. It creates binary columns for each unique category, where a value of 1 indicates the presence of that category, and 0 indicates its absence. In your case, the column contains categories like 'Everyone', 'Teen', 'Everyone 10+', 'Mature 17+', 'Adults only 18+', 'Unrated', and nan. Since these categories do not have a specific order or ranking, one-hot encoding is a suitable choice.\n",
    "The resulting one-hot encoded columns would look like this:\n",
    "\n",
    "sql\n",
    "Copy code\n",
    "Everyone        Teen       Everyone 10+     Mature 17+     Adults only 18+     Unrated\n",
    "   1              0              0                0                 0                   0\n",
    "   0              1              0                0                 0                   0\n",
    "   0              0              1                0                 0                   0\n",
    "   0              0              0                1                 0                   0\n",
    "   0              0              0                0                 1                   0\n",
    "   0              0              0                0                 0                   1\n",
    "   0              0              0                0                 0                   0\n",
    "The nan values would typically be handled separately, such as by filling them with a specific value or treating them as a separate category.\n",
    "\n",
    "Label Encoding:\n",
    "Label encoding is used when the categories have an inherent ordinal relationship or some form of ranking. In label encoding, each unique category is assigned a numerical label, usually starting from 0 or 1. However, in your case, the categories in the column do not appear to have an inherent order or ranking, so label encoding may not be appropriate.\n",
    "Using label encoding in this case could introduce a misleading ordinal relationship between the categories. For example, encoding 'Everyone' as 0, 'Teen' as 1, 'Everyone 10+' as 2, and so on may imply that 'Everyone 10+' is somehow \"greater\" or \"higher\" than 'Teen', which may not be accurate or desired.\n",
    "\n",
    "Therefore, in this particular scenario, one-hot encoding is the recommended approach to convert the categorical column into numerical values for your machine learning model.\n",
    "\n",
    "\n",
    "\n",
    "\n"
   ]
  },
  {
   "cell_type": "code",
   "execution_count": 23,
   "id": "8b2877c8",
   "metadata": {},
   "outputs": [
    {
     "name": "stderr",
     "output_type": "stream",
     "text": [
      "C:\\Users\\drago\\AppData\\Local\\Temp\\ipykernel_10172\\1829080868.py:1: FutureWarning: The default value of regex will change from True to False in a future version.\n",
      "  df['Content Rating'] = df['Content Rating'].str.replace('Mature 17+','Adults only 18+').str.replace('Everyone 10+','Everyone')\n"
     ]
    }
   ],
   "source": [
    "df['Content Rating'] = df['Content Rating'].str.replace('Mature 17+','Adults only 18+').str.replace('Everyone 10+','Everyone')"
   ]
  },
  {
   "cell_type": "code",
   "execution_count": 24,
   "id": "05b216ae",
   "metadata": {},
   "outputs": [],
   "source": [
    "df['Content Rating'] = df['Content Rating'].replace('Everyone+', 'Everyone').replace('Adults only 18++', 'Adults only 18+')\n"
   ]
  },
  {
   "cell_type": "code",
   "execution_count": 25,
   "id": "0f0a2b1c",
   "metadata": {},
   "outputs": [],
   "source": [
    "#df1 = pd.get_dummies(df['Content Rating'], prefix='Rating')\n",
    "df = pd.get_dummies(df, columns=['Content Rating'], prefix='Rating')"
   ]
  },
  {
   "cell_type": "code",
   "execution_count": 26,
   "id": "6d602cda",
   "metadata": {},
   "outputs": [
    {
     "data": {
      "text/plain": [
       "array(['0', '$4.99', '$3.99', '$6.99', '$1.49', '$2.99', '$7.99', '$5.99',\n",
       "       '$3.49', '$1.99', '$9.99', '$7.49', '$0.99', '$9.00', '$5.49',\n",
       "       '$10.00', '$24.99', '$11.99', '$79.99', '$16.99', '$14.99',\n",
       "       '$1.00', '$29.99', '$12.99', '$2.49', '$10.99', '$1.50', '$19.99',\n",
       "       '$15.99', '$33.99', '$74.99', '$39.99', '$3.95', '$4.49', '$1.70',\n",
       "       '$8.99', '$2.00', '$3.88', '$25.99', '$399.99', '$17.99',\n",
       "       '$400.00', '$3.02', '$1.76', '$4.84', '$4.77', '$1.61', '$2.50',\n",
       "       '$1.59', '$6.49', '$1.29', '$5.00', '$13.99', '$299.99', '$379.99',\n",
       "       '$37.99', '$18.99', '$389.99', '$19.90', '$8.49', '$1.75',\n",
       "       '$14.00', '$4.85', '$46.99', '$109.99', '$154.99', '$3.08',\n",
       "       '$2.59', '$4.80', '$1.96', '$19.40', '$3.90', '$4.59', '$15.46',\n",
       "       '$3.04', '$4.29', '$2.60', '$3.28', '$4.60', '$28.99', '$2.95',\n",
       "       '$2.90', '$1.97', '$200.00', '$89.99', '$2.56', '$30.99', '$3.61',\n",
       "       '$394.99', '$1.26', 'Everyone', '$1.20', '$1.04'], dtype=object)"
      ]
     },
     "execution_count": 26,
     "metadata": {},
     "output_type": "execute_result"
    }
   ],
   "source": [
    "df['Price'].unique()"
   ]
  },
  {
   "cell_type": "code",
   "execution_count": 27,
   "id": "d5bb975f",
   "metadata": {},
   "outputs": [
    {
     "name": "stderr",
     "output_type": "stream",
     "text": [
      "C:\\Users\\drago\\AppData\\Local\\Temp\\ipykernel_10172\\2919873163.py:1: FutureWarning: The default value of regex will change from True to False in a future version. In addition, single character regular expressions will *not* be treated as literal strings when regex=True.\n",
      "  df['Price'] = df['Price'].str.replace('$','').str.replace('Everyone','')\n"
     ]
    }
   ],
   "source": [
    "df['Price'] = df['Price'].str.replace('$','').str.replace('Everyone','')"
   ]
  },
  {
   "cell_type": "code",
   "execution_count": 28,
   "id": "bba34658",
   "metadata": {},
   "outputs": [],
   "source": [
    "#df['Price'] = df['Price'].astype(float) "
   ]
  },
  {
   "cell_type": "code",
   "execution_count": 29,
   "id": "1fa9309e",
   "metadata": {},
   "outputs": [],
   "source": [
    "df = df[df['Price'] != '']  # Remove rows with empty 'Price' values\n",
    "df['Price'] = df['Price'].astype(float)  # Convert 'Price' column to float\n"
   ]
  },
  {
   "cell_type": "code",
   "execution_count": 38,
   "id": "df9f13a1",
   "metadata": {},
   "outputs": [
    {
     "data": {
      "text/plain": [
       "array(['1.0', '2.0', '1.2', 'nan', '1.1', '6.1', '2.9', '2.8', '3.8',\n",
       "       '3.1', '2.2', '5.5', '4.0', '1.5', '1.03', '6.0', '6.7', '2.20',\n",
       "       '1.6', '2.1', '1.3', '1', '1.46', '11.0', '3.0', '1.7', '2.5',\n",
       "       '2.493', '1.9', '2.20 Build 02', '1.37', '0.2', '4.47', '1.79',\n",
       "       '2.3', '8.31', '10.0', '1.10', '3.20', '1.4', '4.6', '1.40',\n",
       "       '2.17', '6.10', '5.4', '8.0', '3.3', '1.20', '18.5', '1.15', '3.2',\n",
       "       '1.911805270', '9.1', '15.0', '18.05', '5.0', '3.12', '1.28',\n",
       "       '9.00', '14.0', '3.05', '7.0', '3.9', '3.4', '2.19', '9.7', '4.9',\n",
       "       '5.2', '3.550', '7.3', '5.1', '4.1', '99.0', '12.2', '1.12', '0.9',\n",
       "       '3.24', '18.7', '3.19', '6.4', '3.7', '2.6', '5.20', '4.3',\n",
       "       '10.46', '11.1', '2.22', '2.11', '1.08', '6.3', '4.7', '3.16',\n",
       "       '4.2', '1.01', '2.4', '1.8', '37.0', '5.29', '9.8', '11.8', '24.6',\n",
       "       '47.1', 'R6.0', '69.0', '1.60', '11.4', '2.18', '7.5', '37.1',\n",
       "       '12.8', '9.9', '42.0', '0.1', '7.3(800241)', '7.73', '4.98',\n",
       "       '7.21', '3.47', '6.5', '5.65', '5.22', '4.5', '5.85', '196',\n",
       "       '1.26', '3.5', '8.1', '5.86', '2018.1', '1.286', '6.19', '5.28',\n",
       "       '5.403', '7.2', '11.10', '4.17', '4.19', '6.6', '1.639', '4.4B',\n",
       "       '1.308', '2.45', '1.31', '1.230', '15.8', '4.8', '1.55', '12.0',\n",
       "       '8.7', '3.10', '1.17', '0.0', '3.6', '4.4', '5.16', '5.3', '8.2',\n",
       "       '4.20', '1.', '3.52', '2', '1.5-beta', '4.813', '1.94', '2.16',\n",
       "       '20.7', '2.24', '2.51', '10', '2.15', '3.14', '5.7', '2.48',\n",
       "       '0.29', '10.9', '2.09', '13.9', '8.5', '15.9', '9.12', '4.21',\n",
       "       '1.16', '1.5-play', '1.02', '2.13', '3.43', '2.05', 'v1.8b22p13',\n",
       "       '2.08', '18.07', '6.18', '01.01', '11.45', '8.0626', '43', '4.18',\n",
       "       '3.17', '16.0', '4.003', '4.426', '8.4', '1.57', '2018.07', '1.75',\n",
       "       '1.107', '16.11', '1.14', '18.4', 'Cannonau 3.11', '8.0bld14',\n",
       "       '20.1', '8.18', '10.78', '3.115', '2.31', '5.10', '6.8', '6.28',\n",
       "       '5.38', '2.7', '3.22', '2.70', '6.39', '2.29', '1.13', '2.12',\n",
       "       '2.53', '1.18', '16.6', '4.63', '2.10', '3.04 - Beta', '2.131',\n",
       "       '4.10', '2.34', '8.44', '5.9', '7.8', '6.29', '5.15', '18.6',\n",
       "       '7.12', '2.14', '4.11', '7.9', '5.8', '4.26', '24.5', '2.76',\n",
       "       '9.15', '1.161', '11.11', '5.23', '5.31', 'p5.7', '6.15', '3.401',\n",
       "       '112.0', '5.13', '3.48', '5.14', '6.2', '1.29', '10.24', '37',\n",
       "       '8.8', '1.11', '10.2', 'Public.Heal', '1.92', '7.4', '9.6',\n",
       "       '220.0', '1.04', '858', '1.22', 'v3.1', '3.00', '9.0', '10.19',\n",
       "       '4.90', '16.7', '8.00', 'Version:6.97', '02.00', '9.4', '4.35',\n",
       "       '12.1', '8.3', '5.600', '5.800', '2.347', '1.90', '1.129', '2.137',\n",
       "       '1.49', '1.118', '10.322', '2.21', '5.66', '3196', '1.751', '5423',\n",
       "       '1.21', '5.064', '0.111', '5.200', '1.24', '2.79', '0.7', '3.04',\n",
       "       '5.6', '0.5', '1.180271', '1.250', '1.05', '3.30', '2.0081_206',\n",
       "       '5.39', '19.1', '1.93', '1.76', '1_39_93', '79.0', '108', '8',\n",
       "       '57.0', '3.15', '60', '8.25', '1.73', '2.180723', '7.32',\n",
       "       '10.180530', '149', '1.180702', '1.221', '1.47', '3.49', '37893',\n",
       "       '3.200', '1.19', '18.1', '20180609', '18.2', '3.46', '1.38',\n",
       "       '1.35', '28.0', '6.14', '2018.5', '19.0', '7.6', '7', '7.1',\n",
       "       '1.50', '3.27', '3.25', '6.02', '3.18', '4.36', '2.25', '25.3',\n",
       "       '5.11', '4.23', '3.1-2018 – (13)', '1.830', '10.4', '300000.1',\n",
       "       '2.01', '1.0 Super Ear Hearing', 'PN.1', 'Initial', '5.51', '0.6',\n",
       "       '43.0', '4.95', 'T4.6', '13.0', '4.81', '1.23', '50.2 lite',\n",
       "       '7.23', '2.69', '27.0', '10.6', '16.14', '14.2', '11.7', '4.16',\n",
       "       '3.11', '4.33', '6.25', '29.14', '4.89', '8.9', '5.21', '7.36',\n",
       "       '2.124', '6.9', '18.10', '4.31', '3.28', '3.13', '3.69', '11.6',\n",
       "       '13.6', '584', '22.0', '6.21', '2.73', '2.74', '1.43', '9.3',\n",
       "       '1.32', '3.31', '4.70', '71', '9.40', '6.71', '6.17', '10.8',\n",
       "       '1004.0', '06.11', '5.12', '2018.6', '2.46', '3.21', '2.28',\n",
       "       '2017.7', '18.30', '5.48', '17.4', '9.2', '10.7', '8.13', '4.13',\n",
       "       '8.60', '4.38', '11.26', '17.7', '2.32', '53.89', '4.15', 'v5.4',\n",
       "       '18.21', '13.8', 'v3.7', 'MyMetro_HTML_2.0_430029', 'v8.0', 'v7.0',\n",
       "       '5.36', '32.1', '1.51', '20180517', '2.27', 'v150', '4.78', '6.06',\n",
       "       '4.32', '1.33', 'v3.9f', '5.34', '1.284', '5.41', '4.12', '40.0',\n",
       "       '2.60', '2.85', '2.41', '6.07', '18.0', '68.0', 'v1.39', '13.4',\n",
       "       '1.07', '2.30', '2.04', '2.03', 'FreeTimeApp-aosp_v3.14_Build-1',\n",
       "       'Natalia Studio Development', '30', '8.50', 'v1.0', '17.6', '1.78',\n",
       "       '1.251', '7.10', '1.137', '9.51', '2.71', '5.17', '18.201', '3.53',\n",
       "       '3.000', '2.42', '16.3', '19.2', '116', '04.08', '1.39', '7.16',\n",
       "       '5.44', '5.4 (30)', '4.76', '5.072', '8.10', '8.6', '0.81 beta',\n",
       "       '1.58', '4.94', '15.1', '0.8', '0.19', '27500000', '2.35', '1.52',\n",
       "       '7.7', '10.23', '1.078', '1.09', 'version 0.994', '1.640', '1.91',\n",
       "       '14.6', '2.23', '3.1 Release b2', '5055.524', '1.0-build20170819',\n",
       "       'a.2', '2.277', '5.26', '2.44', '1.279', '0.4', '9.14', '31',\n",
       "       '1009001', '3.01', '1.53', '5.206', '1900001', 'v8[1.0', '7.46',\n",
       "       '1.42', '23.0', '9.55', '1805.0618', '1.2703', '1,01', '2.07',\n",
       "       '32', '1.00', '3.42', '15.6', '1.80', '1.64', '0.54', '0.11',\n",
       "       'v2018.Apr', 'v2018.May', 'H7SubTV0.1_TV0', '12', '4', '2.244',\n",
       "       '7.3(823181)', '2.100', '3.002', '1.1 Build 226', 'v2', '1.574',\n",
       "       '12.6', '9.5', '1.36', '2.40', '10.1', '1.06', '0.16', '263.16',\n",
       "       '6', '1.935', '2.400', '65.0', '4.01', '4.54', '2.92', '1.62',\n",
       "       '1.091', '5', '1.25', '2.94', '6.11', '1.77', '02.02', '3.39',\n",
       "       'acremotecontrol18', 'v67_slk3.0_20180115_01',\n",
       "       '1.3 acremotecontrol', 'airConditionerMaintenance_13112015',\n",
       "       'v1.1072', '11;11.26', 'acremotecontrol-v7', '4.34', '25',\n",
       "       '1255162018', 'v4.29', '117', 'cli-6.5', 'v2.7', '8.05', '30.0',\n",
       "       '300000.0', 'Version 1.20', '2.26', '132', '20', '4.435',\n",
       "       '1.2-Release', '0.33', '10001008', '11.04', 'closed', '18060104',\n",
       "       '5.62', '0.46', '568', '39.231', 'newversion', '666', '10.10',\n",
       "       '1.0beta', '1.54', '1.34', '2.59', '13', '2.003', '1.375', '1.131',\n",
       "       'v3.4', '20180608', '20180620', '4.05', 'Z (Special Edition R9)',\n",
       "       '1.85', '2.47', '5.06', '1.021', 'Cow V3.15', 'Cow V3.11', '11.17',\n",
       "       '1.0-a22936', '3_1', '1.6(3)-demo', '5.805', '16.51', '1.246',\n",
       "       '1.48', 'Final', '3.15317', '1.70', '1.401', 'v2.0', '250', '2.55',\n",
       "       '3.55', 'Arrow-202', '3.44', 'v1.1-20151030', '1.8 P',\n",
       "       '7.0 RELEASE', '20.0', '5.54', '2.5_20', '6.2-pro', '6.2-lite',\n",
       "       '6.2-begina', '6.2-sayc', '26.1', '1.126', 'v1.3',\n",
       "       'BL ONLINE PERSONAL TRAINING 7.9', '10.05', 'v1.2', 'v1.1',\n",
       "       '35.119', 'Version 1.3', 'Rocksteady 1.3', '1.3_4', '1.2016',\n",
       "       '26.0', '2.46 Saber', '13.3', '5.63', '0.12', '31.1',\n",
       "       'Version 1.6', '3.61', '2.54', '2.66', 'V1.7', 'V2.3', '2.02',\n",
       "       '5.45', '24.0', '11.15', '4.72',\n",
       "       'no_update_signal.2_9_1_arm-x86_64-alpha', '1.998', '18.08',\n",
       "       '5.68', '3', '1.98', '1.093', '7.17', '1.41', '1.200',\n",
       "       'opciÃ³n de cerrar', '2.2 Free', '2.00', '2.26 Build 17', '106',\n",
       "       '1.283', '102.0', 'v6.6', \"1.1 (j'sais pas)\", '3.70', '1.042',\n",
       "       '01e', '1.6d', '6.95', '70.0',\n",
       "       'fcbd82b2-dd5b-41d2-af62-432271c42921', '41.9', '1.28ggl', 'v4.30',\n",
       "       'The CJ Rubric 7.12', '2.38', '202', '48',\n",
       "       'CL Pro for Craigslist - Canada 150', '11', 'Bowser4Craigslist',\n",
       "       'App copyright', 'Copyright', '3.82', 'CL Strength 7.12', '6.24',\n",
       "       '14.15', '0.99', '40.10', '2.49', '2.51f', 'v2.6', 'Gratis',\n",
       "       '4.84', '1.82', 'Release 1.0', '60.0', 'Y4W-GATE_CS-5.0',\n",
       "       'SolarCT 1.9 v', '2014.01', '200', '3000.5', '2.129', 'KM', 'iu4',\n",
       "       '11.13', '2.5_16', '1.5_6', 'v6.7', '4.4_23', '20180805', '1.2_3',\n",
       "       '7.18', '3.29', 'INDIRIMBO V.2014', '700', '24.8', '1.122',\n",
       "       'Android 2.1 - 2015', 'Android 3.0 - 2015', 'Android 3.1 - 2015',\n",
       "       'Android 2.0 - 2016', 'Android 3.1 - 2017', '2.95',\n",
       "       'Translator 10.9', '4.75', '18.06', '20180518-01', '1.084', '1.56',\n",
       "       'Glueboardv.6', '6.00', '1.911', 'v3', '31.11', 'v6.1', '1.193',\n",
       "       'DH-Security Camera', '1.67', '10.5', '5.42', '2.106', 'v2017.Dec',\n",
       "       '0.38', '20170828', '5.19', '12.04', '5.03', '0.3', '1.14b',\n",
       "       'HTTPs', '21 - Rel2.0', '14.4', '2.68', '0.21', '67',\n",
       "       '2.2 (Protostar)', 'DPSTATUS1.0', '15|06|17', 'di-v3.4', '1.96',\n",
       "       'r2.5', 'pb1.0', '47', '3.67', '2.983', '6.93', '25.7', '0.20',\n",
       "       '1.44', 'V1.0', '0.22', '10.36', '3.98', '10.012', 'R1.4', '1.27',\n",
       "       '17.0', '1.002', '39.272', 'R1.3', 'V1.5', '69.1', '1.441',\n",
       "       'Human Dx', '0.74 11', '2018-04-27', '2018-03', '0.35', '04.00',\n",
       "       '5.27', '33.0', '17.25', '8.07', '1.278', 'erie1.3', '14.01',\n",
       "       '4541.25', 'Build 54', 'Build 12', '4.1806',\n",
       "       '1.8 (2014-10-10 11:10:51 +0400)', '1.95', '6.08', '3.33',\n",
       "       '130.48', '8.16g', '0.62', '1.173', '25072018', '3.45', '1.932',\n",
       "       '5.30', '2.177', '56', '23', '17.05', '21.54', 'Paid-9.4',\n",
       "       'Fennec-52.9', '8.02', '2.72', 'BlueOrange', '314007', '1000000.6',\n",
       "       '36', 'Pro 1.1', 'V1-180703', 'MONEY', '3.07', 'F2i', '1.0060',\n",
       "       '1.59', '81', '1.20180531', '2.96', '2.001', '2.164', '16.00',\n",
       "       '3.08', '0.59', 'V4.1', 'v1.9', '2018.04', '3.34', '23.2', '2.52',\n",
       "       '176.0', '24.4', '7.95', '7.30', '3.953', '2018.0', '2018.8',\n",
       "       '060816', '125', '68', '23.17', '14', '34', '5.33', '0.90', '9',\n",
       "       '20170920', 'FH CODE 1.0', '0.24', '0.858', '9.19',\n",
       "       'Android 3.0 - 2017', '3.36', 'Android 2.0 - 2014', '1.0404',\n",
       "       '41.0', '3rd Release Aug 2016', '2.5a', '23.01', '0.15', '2017.07',\n",
       "       '1.022', '15', '1.74', '1.72', '6.04'], dtype=object)"
      ]
     },
     "execution_count": 38,
     "metadata": {},
     "output_type": "execute_result"
    }
   ],
   "source": [
    "df['Current Ver'].unique()"
   ]
  },
  {
   "cell_type": "code",
   "execution_count": 32,
   "id": "62c1793a",
   "metadata": {},
   "outputs": [],
   "source": [
    "df['Current Ver'] = df['Current Ver'].astype(str)  # Convert 'Current Ver' column to string type\n",
    "df['Current Ver'] = df['Current Ver'].apply(lambda x: '.'.join(x.split('.')[:2]) if x != 'nan' else x)\n"
   ]
  },
  {
   "cell_type": "code",
   "execution_count": 33,
   "id": "656c5495",
   "metadata": {},
   "outputs": [],
   "source": [
    "df['Current Ver'] = df['Current Ver'].apply(lambda x: '.'.join(x.split('.')[:2]))\n"
   ]
  },
  {
   "cell_type": "code",
   "execution_count": 34,
   "id": "8f588388",
   "metadata": {},
   "outputs": [],
   "source": [
    "#df['Current Ver'] = df['Current Ver'].str.replace('1.0.0','1').str.replace('2.0.0','2').str.replace('1.2.4','1.2').str.replace('1.0.612928','1').str.replace('0.3.4','0').str.replace('2.0.148.0','2').str.replace('NAType','0').str.replace('6.1.61.1','6').str.replace('2.9.2','3')"
   ]
  },
  {
   "cell_type": "code",
   "execution_count": 36,
   "id": "7fa0d3ad",
   "metadata": {},
   "outputs": [],
   "source": [
    "df = df[df['Current Ver'] != 'NAType']\n",
    "\n"
   ]
  },
  {
   "cell_type": "code",
   "execution_count": 37,
   "id": "5b0c1592",
   "metadata": {},
   "outputs": [
    {
     "ename": "ValueError",
     "evalue": "could not convert string to float: '2.20 Build 02'",
     "output_type": "error",
     "traceback": [
      "\u001b[1;31m---------------------------------------------------------------------------\u001b[0m",
      "\u001b[1;31mValueError\u001b[0m                                Traceback (most recent call last)",
      "\u001b[1;32m~\\AppData\\Local\\Temp\\ipykernel_10172\\1058823353.py\u001b[0m in \u001b[0;36m<module>\u001b[1;34m\u001b[0m\n\u001b[1;32m----> 1\u001b[1;33m \u001b[0mdf\u001b[0m\u001b[1;33m[\u001b[0m\u001b[1;34m'Current Ver'\u001b[0m\u001b[1;33m]\u001b[0m \u001b[1;33m=\u001b[0m \u001b[0mdf\u001b[0m\u001b[1;33m[\u001b[0m\u001b[1;34m'Current Ver'\u001b[0m\u001b[1;33m]\u001b[0m\u001b[1;33m.\u001b[0m\u001b[0mastype\u001b[0m\u001b[1;33m(\u001b[0m\u001b[0mfloat\u001b[0m\u001b[1;33m)\u001b[0m\u001b[1;33m\u001b[0m\u001b[1;33m\u001b[0m\u001b[0m\n\u001b[0m",
      "\u001b[1;32mC:\\ProgramData\\Anaconda3\\lib\\site-packages\\pandas\\core\\generic.py\u001b[0m in \u001b[0;36mastype\u001b[1;34m(self, dtype, copy, errors)\u001b[0m\n\u001b[0;32m   5910\u001b[0m         \u001b[1;32melse\u001b[0m\u001b[1;33m:\u001b[0m\u001b[1;33m\u001b[0m\u001b[1;33m\u001b[0m\u001b[0m\n\u001b[0;32m   5911\u001b[0m             \u001b[1;31m# else, only a single dtype is given\u001b[0m\u001b[1;33m\u001b[0m\u001b[1;33m\u001b[0m\u001b[0m\n\u001b[1;32m-> 5912\u001b[1;33m             \u001b[0mnew_data\u001b[0m \u001b[1;33m=\u001b[0m \u001b[0mself\u001b[0m\u001b[1;33m.\u001b[0m\u001b[0m_mgr\u001b[0m\u001b[1;33m.\u001b[0m\u001b[0mastype\u001b[0m\u001b[1;33m(\u001b[0m\u001b[0mdtype\u001b[0m\u001b[1;33m=\u001b[0m\u001b[0mdtype\u001b[0m\u001b[1;33m,\u001b[0m \u001b[0mcopy\u001b[0m\u001b[1;33m=\u001b[0m\u001b[0mcopy\u001b[0m\u001b[1;33m,\u001b[0m \u001b[0merrors\u001b[0m\u001b[1;33m=\u001b[0m\u001b[0merrors\u001b[0m\u001b[1;33m)\u001b[0m\u001b[1;33m\u001b[0m\u001b[1;33m\u001b[0m\u001b[0m\n\u001b[0m\u001b[0;32m   5913\u001b[0m             \u001b[1;32mreturn\u001b[0m \u001b[0mself\u001b[0m\u001b[1;33m.\u001b[0m\u001b[0m_constructor\u001b[0m\u001b[1;33m(\u001b[0m\u001b[0mnew_data\u001b[0m\u001b[1;33m)\u001b[0m\u001b[1;33m.\u001b[0m\u001b[0m__finalize__\u001b[0m\u001b[1;33m(\u001b[0m\u001b[0mself\u001b[0m\u001b[1;33m,\u001b[0m \u001b[0mmethod\u001b[0m\u001b[1;33m=\u001b[0m\u001b[1;34m\"astype\"\u001b[0m\u001b[1;33m)\u001b[0m\u001b[1;33m\u001b[0m\u001b[1;33m\u001b[0m\u001b[0m\n\u001b[0;32m   5914\u001b[0m \u001b[1;33m\u001b[0m\u001b[0m\n",
      "\u001b[1;32mC:\\ProgramData\\Anaconda3\\lib\\site-packages\\pandas\\core\\internals\\managers.py\u001b[0m in \u001b[0;36mastype\u001b[1;34m(self, dtype, copy, errors)\u001b[0m\n\u001b[0;32m    417\u001b[0m \u001b[1;33m\u001b[0m\u001b[0m\n\u001b[0;32m    418\u001b[0m     \u001b[1;32mdef\u001b[0m \u001b[0mastype\u001b[0m\u001b[1;33m(\u001b[0m\u001b[0mself\u001b[0m\u001b[1;33m:\u001b[0m \u001b[0mT\u001b[0m\u001b[1;33m,\u001b[0m \u001b[0mdtype\u001b[0m\u001b[1;33m,\u001b[0m \u001b[0mcopy\u001b[0m\u001b[1;33m:\u001b[0m \u001b[0mbool\u001b[0m \u001b[1;33m=\u001b[0m \u001b[1;32mFalse\u001b[0m\u001b[1;33m,\u001b[0m \u001b[0merrors\u001b[0m\u001b[1;33m:\u001b[0m \u001b[0mstr\u001b[0m \u001b[1;33m=\u001b[0m \u001b[1;34m\"raise\"\u001b[0m\u001b[1;33m)\u001b[0m \u001b[1;33m->\u001b[0m \u001b[0mT\u001b[0m\u001b[1;33m:\u001b[0m\u001b[1;33m\u001b[0m\u001b[1;33m\u001b[0m\u001b[0m\n\u001b[1;32m--> 419\u001b[1;33m         \u001b[1;32mreturn\u001b[0m \u001b[0mself\u001b[0m\u001b[1;33m.\u001b[0m\u001b[0mapply\u001b[0m\u001b[1;33m(\u001b[0m\u001b[1;34m\"astype\"\u001b[0m\u001b[1;33m,\u001b[0m \u001b[0mdtype\u001b[0m\u001b[1;33m=\u001b[0m\u001b[0mdtype\u001b[0m\u001b[1;33m,\u001b[0m \u001b[0mcopy\u001b[0m\u001b[1;33m=\u001b[0m\u001b[0mcopy\u001b[0m\u001b[1;33m,\u001b[0m \u001b[0merrors\u001b[0m\u001b[1;33m=\u001b[0m\u001b[0merrors\u001b[0m\u001b[1;33m)\u001b[0m\u001b[1;33m\u001b[0m\u001b[1;33m\u001b[0m\u001b[0m\n\u001b[0m\u001b[0;32m    420\u001b[0m \u001b[1;33m\u001b[0m\u001b[0m\n\u001b[0;32m    421\u001b[0m     def convert(\n",
      "\u001b[1;32mC:\\ProgramData\\Anaconda3\\lib\\site-packages\\pandas\\core\\internals\\managers.py\u001b[0m in \u001b[0;36mapply\u001b[1;34m(self, f, align_keys, ignore_failures, **kwargs)\u001b[0m\n\u001b[0;32m    302\u001b[0m                     \u001b[0mapplied\u001b[0m \u001b[1;33m=\u001b[0m \u001b[0mb\u001b[0m\u001b[1;33m.\u001b[0m\u001b[0mapply\u001b[0m\u001b[1;33m(\u001b[0m\u001b[0mf\u001b[0m\u001b[1;33m,\u001b[0m \u001b[1;33m**\u001b[0m\u001b[0mkwargs\u001b[0m\u001b[1;33m)\u001b[0m\u001b[1;33m\u001b[0m\u001b[1;33m\u001b[0m\u001b[0m\n\u001b[0;32m    303\u001b[0m                 \u001b[1;32melse\u001b[0m\u001b[1;33m:\u001b[0m\u001b[1;33m\u001b[0m\u001b[1;33m\u001b[0m\u001b[0m\n\u001b[1;32m--> 304\u001b[1;33m                     \u001b[0mapplied\u001b[0m \u001b[1;33m=\u001b[0m \u001b[0mgetattr\u001b[0m\u001b[1;33m(\u001b[0m\u001b[0mb\u001b[0m\u001b[1;33m,\u001b[0m \u001b[0mf\u001b[0m\u001b[1;33m)\u001b[0m\u001b[1;33m(\u001b[0m\u001b[1;33m**\u001b[0m\u001b[0mkwargs\u001b[0m\u001b[1;33m)\u001b[0m\u001b[1;33m\u001b[0m\u001b[1;33m\u001b[0m\u001b[0m\n\u001b[0m\u001b[0;32m    305\u001b[0m             \u001b[1;32mexcept\u001b[0m \u001b[1;33m(\u001b[0m\u001b[0mTypeError\u001b[0m\u001b[1;33m,\u001b[0m \u001b[0mNotImplementedError\u001b[0m\u001b[1;33m)\u001b[0m\u001b[1;33m:\u001b[0m\u001b[1;33m\u001b[0m\u001b[1;33m\u001b[0m\u001b[0m\n\u001b[0;32m    306\u001b[0m                 \u001b[1;32mif\u001b[0m \u001b[1;32mnot\u001b[0m \u001b[0mignore_failures\u001b[0m\u001b[1;33m:\u001b[0m\u001b[1;33m\u001b[0m\u001b[1;33m\u001b[0m\u001b[0m\n",
      "\u001b[1;32mC:\\ProgramData\\Anaconda3\\lib\\site-packages\\pandas\\core\\internals\\blocks.py\u001b[0m in \u001b[0;36mastype\u001b[1;34m(self, dtype, copy, errors)\u001b[0m\n\u001b[0;32m    578\u001b[0m         \u001b[0mvalues\u001b[0m \u001b[1;33m=\u001b[0m \u001b[0mself\u001b[0m\u001b[1;33m.\u001b[0m\u001b[0mvalues\u001b[0m\u001b[1;33m\u001b[0m\u001b[1;33m\u001b[0m\u001b[0m\n\u001b[0;32m    579\u001b[0m \u001b[1;33m\u001b[0m\u001b[0m\n\u001b[1;32m--> 580\u001b[1;33m         \u001b[0mnew_values\u001b[0m \u001b[1;33m=\u001b[0m \u001b[0mastype_array_safe\u001b[0m\u001b[1;33m(\u001b[0m\u001b[0mvalues\u001b[0m\u001b[1;33m,\u001b[0m \u001b[0mdtype\u001b[0m\u001b[1;33m,\u001b[0m \u001b[0mcopy\u001b[0m\u001b[1;33m=\u001b[0m\u001b[0mcopy\u001b[0m\u001b[1;33m,\u001b[0m \u001b[0merrors\u001b[0m\u001b[1;33m=\u001b[0m\u001b[0merrors\u001b[0m\u001b[1;33m)\u001b[0m\u001b[1;33m\u001b[0m\u001b[1;33m\u001b[0m\u001b[0m\n\u001b[0m\u001b[0;32m    581\u001b[0m \u001b[1;33m\u001b[0m\u001b[0m\n\u001b[0;32m    582\u001b[0m         \u001b[0mnew_values\u001b[0m \u001b[1;33m=\u001b[0m \u001b[0mmaybe_coerce_values\u001b[0m\u001b[1;33m(\u001b[0m\u001b[0mnew_values\u001b[0m\u001b[1;33m)\u001b[0m\u001b[1;33m\u001b[0m\u001b[1;33m\u001b[0m\u001b[0m\n",
      "\u001b[1;32mC:\\ProgramData\\Anaconda3\\lib\\site-packages\\pandas\\core\\dtypes\\cast.py\u001b[0m in \u001b[0;36mastype_array_safe\u001b[1;34m(values, dtype, copy, errors)\u001b[0m\n\u001b[0;32m   1290\u001b[0m \u001b[1;33m\u001b[0m\u001b[0m\n\u001b[0;32m   1291\u001b[0m     \u001b[1;32mtry\u001b[0m\u001b[1;33m:\u001b[0m\u001b[1;33m\u001b[0m\u001b[1;33m\u001b[0m\u001b[0m\n\u001b[1;32m-> 1292\u001b[1;33m         \u001b[0mnew_values\u001b[0m \u001b[1;33m=\u001b[0m \u001b[0mastype_array\u001b[0m\u001b[1;33m(\u001b[0m\u001b[0mvalues\u001b[0m\u001b[1;33m,\u001b[0m \u001b[0mdtype\u001b[0m\u001b[1;33m,\u001b[0m \u001b[0mcopy\u001b[0m\u001b[1;33m=\u001b[0m\u001b[0mcopy\u001b[0m\u001b[1;33m)\u001b[0m\u001b[1;33m\u001b[0m\u001b[1;33m\u001b[0m\u001b[0m\n\u001b[0m\u001b[0;32m   1293\u001b[0m     \u001b[1;32mexcept\u001b[0m \u001b[1;33m(\u001b[0m\u001b[0mValueError\u001b[0m\u001b[1;33m,\u001b[0m \u001b[0mTypeError\u001b[0m\u001b[1;33m)\u001b[0m\u001b[1;33m:\u001b[0m\u001b[1;33m\u001b[0m\u001b[1;33m\u001b[0m\u001b[0m\n\u001b[0;32m   1294\u001b[0m         \u001b[1;31m# e.g. astype_nansafe can fail on object-dtype of strings\u001b[0m\u001b[1;33m\u001b[0m\u001b[1;33m\u001b[0m\u001b[0m\n",
      "\u001b[1;32mC:\\ProgramData\\Anaconda3\\lib\\site-packages\\pandas\\core\\dtypes\\cast.py\u001b[0m in \u001b[0;36mastype_array\u001b[1;34m(values, dtype, copy)\u001b[0m\n\u001b[0;32m   1235\u001b[0m \u001b[1;33m\u001b[0m\u001b[0m\n\u001b[0;32m   1236\u001b[0m     \u001b[1;32melse\u001b[0m\u001b[1;33m:\u001b[0m\u001b[1;33m\u001b[0m\u001b[1;33m\u001b[0m\u001b[0m\n\u001b[1;32m-> 1237\u001b[1;33m         \u001b[0mvalues\u001b[0m \u001b[1;33m=\u001b[0m \u001b[0mastype_nansafe\u001b[0m\u001b[1;33m(\u001b[0m\u001b[0mvalues\u001b[0m\u001b[1;33m,\u001b[0m \u001b[0mdtype\u001b[0m\u001b[1;33m,\u001b[0m \u001b[0mcopy\u001b[0m\u001b[1;33m=\u001b[0m\u001b[0mcopy\u001b[0m\u001b[1;33m)\u001b[0m\u001b[1;33m\u001b[0m\u001b[1;33m\u001b[0m\u001b[0m\n\u001b[0m\u001b[0;32m   1238\u001b[0m \u001b[1;33m\u001b[0m\u001b[0m\n\u001b[0;32m   1239\u001b[0m     \u001b[1;31m# in pandas we don't store numpy str dtypes, so convert to object\u001b[0m\u001b[1;33m\u001b[0m\u001b[1;33m\u001b[0m\u001b[0m\n",
      "\u001b[1;32mC:\\ProgramData\\Anaconda3\\lib\\site-packages\\pandas\\core\\dtypes\\cast.py\u001b[0m in \u001b[0;36mastype_nansafe\u001b[1;34m(arr, dtype, copy, skipna)\u001b[0m\n\u001b[0;32m   1179\u001b[0m     \u001b[1;32mif\u001b[0m \u001b[0mcopy\u001b[0m \u001b[1;32mor\u001b[0m \u001b[0mis_object_dtype\u001b[0m\u001b[1;33m(\u001b[0m\u001b[0marr\u001b[0m\u001b[1;33m.\u001b[0m\u001b[0mdtype\u001b[0m\u001b[1;33m)\u001b[0m \u001b[1;32mor\u001b[0m \u001b[0mis_object_dtype\u001b[0m\u001b[1;33m(\u001b[0m\u001b[0mdtype\u001b[0m\u001b[1;33m)\u001b[0m\u001b[1;33m:\u001b[0m\u001b[1;33m\u001b[0m\u001b[1;33m\u001b[0m\u001b[0m\n\u001b[0;32m   1180\u001b[0m         \u001b[1;31m# Explicit copy, or required since NumPy can't view from / to object.\u001b[0m\u001b[1;33m\u001b[0m\u001b[1;33m\u001b[0m\u001b[0m\n\u001b[1;32m-> 1181\u001b[1;33m         \u001b[1;32mreturn\u001b[0m \u001b[0marr\u001b[0m\u001b[1;33m.\u001b[0m\u001b[0mastype\u001b[0m\u001b[1;33m(\u001b[0m\u001b[0mdtype\u001b[0m\u001b[1;33m,\u001b[0m \u001b[0mcopy\u001b[0m\u001b[1;33m=\u001b[0m\u001b[1;32mTrue\u001b[0m\u001b[1;33m)\u001b[0m\u001b[1;33m\u001b[0m\u001b[1;33m\u001b[0m\u001b[0m\n\u001b[0m\u001b[0;32m   1182\u001b[0m \u001b[1;33m\u001b[0m\u001b[0m\n\u001b[0;32m   1183\u001b[0m     \u001b[1;32mreturn\u001b[0m \u001b[0marr\u001b[0m\u001b[1;33m.\u001b[0m\u001b[0mastype\u001b[0m\u001b[1;33m(\u001b[0m\u001b[0mdtype\u001b[0m\u001b[1;33m,\u001b[0m \u001b[0mcopy\u001b[0m\u001b[1;33m=\u001b[0m\u001b[0mcopy\u001b[0m\u001b[1;33m)\u001b[0m\u001b[1;33m\u001b[0m\u001b[1;33m\u001b[0m\u001b[0m\n",
      "\u001b[1;31mValueError\u001b[0m: could not convert string to float: '2.20 Build 02'"
     ]
    }
   ],
   "source": [
    "df['Current Ver'] = df['Current Ver'].astype(float) "
   ]
  },
  {
   "cell_type": "code",
   "execution_count": null,
   "id": "0f8bb6db",
   "metadata": {},
   "outputs": [],
   "source": [
    "mean_value = df['Current Ver'].mean()\n",
    "\n",
    "# Fill missing values with the mean\n",
    "df['Current Ver'] = df['Current Ver'].fillna(mean_value)"
   ]
  },
  {
   "cell_type": "code",
   "execution_count": null,
   "id": "e1729347",
   "metadata": {},
   "outputs": [],
   "source": [
    "df['Android Ver'].unique()"
   ]
  },
  {
   "cell_type": "code",
   "execution_count": null,
   "id": "d2200403",
   "metadata": {},
   "outputs": [],
   "source": [
    "df['Android Ver'] = df['Android Ver'].str.replace(' and up', '')  # Remove ' and up'\n",
    "df['Android Ver'] = df['Android Ver'].str.replace('<NA>', '')  # Remove '<NA>'"
   ]
  },
  {
   "cell_type": "code",
   "execution_count": null,
   "id": "39218d38",
   "metadata": {},
   "outputs": [],
   "source": [
    "import pandas as pd\n",
    "import numpy as np\n",
    "from sklearn.ensemble import RandomForestRegressor\n",
    "from sklearn.model_selection import train_test_split\n",
    "from sklearn.metrics import mean_squared_error\n",
    "from sklearn.preprocessing import MinMaxScaler\n",
    "from sklearn.metrics import mean_squared_error, r2_score\n",
    "\n",
    "#Rating\tReviews\tSize\tInstalls\tPrice\tLast Updated\tCurrent Ver\tAndroid Ver\tType_Free\tType_Paid\n",
    "\n",
    "# Define the target variable and features\n",
    "target = 'Rating'\n",
    "features = ['Reviews', 'Size', 'Installs', 'Price','Current Ver','Android Ver','Type_Free','Type_Paid']\n",
    "\n",
    "\n",
    "\n",
    "\n",
    "\n",
    "# Feature Engineering - Example: Create a new feature 'Popularity'\n",
    "df['Popularity'] = df['Reviews'] * df['Installs']\n",
    "\n",
    "# Scale the numerical features\n",
    "scaler = MinMaxScaler()\n",
    "df[features] = scaler.fit_transform(df[features])\n",
    "\n",
    "# Split the data into train and test sets\n",
    "X = df2[features]\n",
    "y = df2[target]\n",
    "X_train, X_test, y_train, y_test = train_test_split(X, y, test_size=0.2, random_state=42)\n",
    "\n",
    "# Train a Random Forest Regressor model\n",
    "rf = RandomForestRegressor(n_estimators=100, max_depth=10, random_state=42)\n",
    "rf.fit(X_train, y_train)\n",
    "\n",
    "# Make predictions on the test set\n",
    "y_pred = rf.predict(X_test)\n",
    "\n",
    "# Evaluate the model\n",
    "mse = mean_squared_error(y_test, y_pred)\n",
    "print(\"Mean Squared Error:\", mse)\n",
    "\n",
    "# Calculate the R2 score\n",
    "r2 = r2_score(y_test, y_pred)\n",
    "print(\"R2 Score:\", r2)"
   ]
  },
  {
   "cell_type": "code",
   "execution_count": null,
   "id": "92b29402",
   "metadata": {},
   "outputs": [],
   "source": []
  },
  {
   "cell_type": "code",
   "execution_count": null,
   "id": "a3866af6",
   "metadata": {},
   "outputs": [],
   "source": []
  },
  {
   "cell_type": "code",
   "execution_count": null,
   "id": "9fda1b7c",
   "metadata": {},
   "outputs": [],
   "source": []
  },
  {
   "cell_type": "code",
   "execution_count": null,
   "id": "922f0891",
   "metadata": {},
   "outputs": [],
   "source": []
  },
  {
   "cell_type": "code",
   "execution_count": null,
   "id": "7a7ac548",
   "metadata": {},
   "outputs": [],
   "source": []
  },
  {
   "cell_type": "code",
   "execution_count": null,
   "id": "3bb0b713",
   "metadata": {},
   "outputs": [],
   "source": []
  },
  {
   "cell_type": "code",
   "execution_count": null,
   "id": "a3b15bec",
   "metadata": {},
   "outputs": [],
   "source": []
  },
  {
   "cell_type": "code",
   "execution_count": null,
   "id": "e1939e47",
   "metadata": {},
   "outputs": [],
   "source": []
  },
  {
   "cell_type": "code",
   "execution_count": null,
   "id": "42113d5c",
   "metadata": {},
   "outputs": [],
   "source": []
  }
 ],
 "metadata": {
  "kernelspec": {
   "display_name": "Python 3 (ipykernel)",
   "language": "python",
   "name": "python3"
  },
  "language_info": {
   "codemirror_mode": {
    "name": "ipython",
    "version": 3
   },
   "file_extension": ".py",
   "mimetype": "text/x-python",
   "name": "python",
   "nbconvert_exporter": "python",
   "pygments_lexer": "ipython3",
   "version": "3.9.13"
  }
 },
 "nbformat": 4,
 "nbformat_minor": 5
}
